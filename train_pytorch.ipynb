{
 "cells": [
  {
   "cell_type": "code",
   "execution_count": 1,
   "metadata": {},
   "outputs": [
    {
     "name": "stdout",
     "output_type": "stream",
     "text": [
      "1.11.0+cu113\n"
     ]
    }
   ],
   "source": [
    "import torch # 导入的是 torch 而不是 pytorch\n",
    "print(torch.__version__) # 输出当前pytorch的版本"
   ]
  },
  {
   "cell_type": "code",
   "execution_count": 2,
   "metadata": {},
   "outputs": [],
   "source": [
    "import numpy as np\n",
    "import pandas as pd\n",
    " \n",
    "# 读入数据\n",
    "file_path = 'fer2013.csv'\n",
    "df = pd.read_csv(file_path)"
   ]
  },
  {
   "cell_type": "code",
   "execution_count": null,
   "metadata": {},
   "outputs": [],
   "source": [
    "# 将数据集划分为训练和测试模块\n",
    "X_train, Y_train, X_test, Y_test = [], [], [], []\n",
    "\n",
    "for index, row in df.iterrows():\n",
    "    val = row['pixels'].split(\" \")\n",
    "    try:\n",
    "        if 'Training' in row['Usage']:\n",
    "            X_train.append(np.array(val, 'float32'))\n",
    "            Y_train.append(row['emotion'])\n",
    "        elif 'PublicTest' in row['Usage']:\n",
    "            X_test.append(np.array(val, 'float32'))\n",
    "            Y_test.append(row['emotion'])\n",
    "    except:\n",
    "        print(f\"error occured at index :{index} and row:{row}\")\n",
    "\n",
    "num_features = 64\n",
    "num_labels = 7\n",
    "batch_size = 64\n",
    "epochs = 50\n",
    "width, height = 48, 48\n",
    "\n",
    "X_train = np.array(X_train, 'float32')\n",
    "Y_train = np.array(Y_train, 'float32')\n",
    "X_test = np.array(X_test, 'float32')\n",
    "Y_test = np.array(Y_test, 'float32')\n",
    "\n",
    "# 将0-6的标签数据转化为onehot数据\n",
    "def to_onehot(y):\n",
    "    temp_outs = np.zeros((y.shape[0], np.unique(y).size), dtype=np.uint8)\n",
    "    temp_outs[np.arange(y.shape[0]), np.uint8(y)] = 1\n",
    "    return temp_outs\n",
    "Y_train = to_onehot(Y_train)\n",
    "Y_test = to_onehot(Y_test)\n",
    "# print(Y_train)\n",
    "# print(Y_test)\n",
    "\n",
    "# normalizing data between 0 and 1\n",
    "X_train -= np.mean(X_train, axis=0)\n",
    "X_train /= np.std(X_train, axis=0)\n",
    "\n",
    "X_test -= np.mean(X_test, axis=0)\n",
    "X_test /= np.std(X_test, axis=0)\n",
    "\n",
    "X_train = X_train.reshape(X_train.shape[0], 48, 48, 1)\n",
    "\n",
    "X_test = X_test.reshape(X_test.shape[0], 48, 48, 1)"
   ]
  },
  {
   "cell_type": "markdown",
   "metadata": {},
   "source": [
    "class VGG(nn.Module):\n",
    "    def __init__(\n",
    "        self, features: nn.Module, num_classes: int = 1000, init_weights: bool = True, dropout: float = 0.5\n",
    "    ) -> None:\n",
    "        super().__init__()\n",
    "        torch._C._log_api_usage_once(self)\n",
    "        self.features = features\n",
    "        self.avgpool = nn.AdaptiveAvgPool2d((7, 7))\n",
    "        self.classifier = nn.Sequential(\n",
    "            nn.Linear(512 * 7 * 7, 4096),\n",
    "            nn.ReLU(True),\n",
    "            nn.Dropout(p=dropout),\n",
    "            nn.Linear(4096, 4096),\n",
    "            nn.ReLU(True),\n",
    "            nn.Dropout(p=dropout),\n",
    "            nn.Linear(4096, num_classes),\n",
    "        )\n",
    "        if init_weights:\n",
    "            for m in self.modules():\n",
    "                if isinstance(m, nn.Conv2d):\n",
    "                    nn.init.kaiming_normal_(m.weight, mode=\"fan_out\", nonlinearity=\"relu\")\n",
    "                    if m.bias is not None:\n",
    "                        nn.init.constant_(m.bias, 0)\n",
    "                elif isinstance(m, nn.BatchNorm2d):\n",
    "                    nn.init.constant_(m.weight, 1)\n",
    "                    nn.init.constant_(m.bias, 0)\n",
    "                elif isinstance(m, nn.Linear):\n",
    "                    nn.init.normal_(m.weight, 0, 0.01)\n",
    "                    nn.init.constant_(m.bias, 0)\n",
    "\n",
    "    def forward(self, x: torch.Tensor) -> torch.Tensor:\n",
    "        x = self.features(x)\n",
    "        x = self.avgpool(x)\n",
    "        x = torch.flatten(x, 1)\n",
    "        x = self.classifier(x)\n",
    "        return x\n",
    "\n",
    "def make_layers(cfg: List[Union[str, int]], batch_norm: bool = False) -> nn.Sequential:\n",
    "    layers: List[nn.Module] = []\n",
    "    in_channels = 3\n",
    "    for v in cfg:\n",
    "        if v == \"M\":\n",
    "            layers += [nn.MaxPool2d(kernel_size=2, stride=2)]\n",
    "        else:\n",
    "            v = cast(int, v)\n",
    "            conv2d = nn.Conv2d(in_channels, v, kernel_size=3, padding=1)\n",
    "            if batch_norm:\n",
    "                layers += [conv2d, nn.BatchNorm2d(v), nn.ReLU(inplace=True)]\n",
    "            else:\n",
    "                layers += [conv2d, nn.ReLU(inplace=True)]\n",
    "            in_channels = v\n",
    "    return nn.Sequential(*layers)\n",
    "\n",
    "cfg = [64, 64, 'M', 128, 128, 'M', 256, 256, 256, 256, 'M', 512, 512, 512, 512, 'M', 512, 512, 512, 512, 'M']\n",
    "model = VGG(make_layers(cfg, batch_norm=True))\n",
    "print(model)"
   ]
  },
  {
   "cell_type": "code",
   "execution_count": 13,
   "metadata": {},
   "outputs": [
    {
     "ename": "AttributeError",
     "evalue": "module 'torch' has no attribute '_six'",
     "output_type": "error",
     "traceback": [
      "\u001b[1;31m---------------------------------------------------------------------------\u001b[0m",
      "\u001b[1;31mAttributeError\u001b[0m                            Traceback (most recent call last)",
      "\u001b[1;32md:\\OneDrive - mail2.sysu.edu.cn\\1SYSU\\Programming\\AI\\大作业\\AI_LessonProject\\train_pytorch.ipynb Cell 4'\u001b[0m in \u001b[0;36m<cell line: 66>\u001b[1;34m()\u001b[0m\n\u001b[0;32m     <a href='vscode-notebook-cell:/d%3A/OneDrive%20-%20mail2.sysu.edu.cn/1SYSU/Programming/AI/%E5%A4%A7%E4%BD%9C%E4%B8%9A/AI_LessonProject/train_pytorch.ipynb#ch0000001?line=62'>63</a>\u001b[0m     \u001b[39mreturn\u001b[39;00m nn\u001b[39m.\u001b[39mSequential(\u001b[39m*\u001b[39mlayers)\n\u001b[0;32m     <a href='vscode-notebook-cell:/d%3A/OneDrive%20-%20mail2.sysu.edu.cn/1SYSU/Programming/AI/%E5%A4%A7%E4%BD%9C%E4%B8%9A/AI_LessonProject/train_pytorch.ipynb#ch0000001?line=64'>65</a>\u001b[0m cfg \u001b[39m=\u001b[39m [\u001b[39m64\u001b[39m, \u001b[39m64\u001b[39m, \u001b[39m'\u001b[39m\u001b[39mM\u001b[39m\u001b[39m'\u001b[39m, \u001b[39m128\u001b[39m, \u001b[39m128\u001b[39m, \u001b[39m'\u001b[39m\u001b[39mM\u001b[39m\u001b[39m'\u001b[39m, \u001b[39m256\u001b[39m, \u001b[39m256\u001b[39m, \u001b[39m256\u001b[39m, \u001b[39m256\u001b[39m, \u001b[39m'\u001b[39m\u001b[39mM\u001b[39m\u001b[39m'\u001b[39m, \u001b[39m512\u001b[39m, \u001b[39m512\u001b[39m, \u001b[39m512\u001b[39m, \u001b[39m512\u001b[39m, \u001b[39m'\u001b[39m\u001b[39mM\u001b[39m\u001b[39m'\u001b[39m, \u001b[39m512\u001b[39m, \u001b[39m512\u001b[39m, \u001b[39m512\u001b[39m, \u001b[39m512\u001b[39m, \u001b[39m'\u001b[39m\u001b[39mM\u001b[39m\u001b[39m'\u001b[39m]\n\u001b[1;32m---> <a href='vscode-notebook-cell:/d%3A/OneDrive%20-%20mail2.sysu.edu.cn/1SYSU/Programming/AI/%E5%A4%A7%E4%BD%9C%E4%B8%9A/AI_LessonProject/train_pytorch.ipynb#ch0000001?line=65'>66</a>\u001b[0m model \u001b[39m=\u001b[39m VGG(make_layers(cfg, batch_norm\u001b[39m=\u001b[39;49m\u001b[39mTrue\u001b[39;49;00m))\n\u001b[0;32m     <a href='vscode-notebook-cell:/d%3A/OneDrive%20-%20mail2.sysu.edu.cn/1SYSU/Programming/AI/%E5%A4%A7%E4%BD%9C%E4%B8%9A/AI_LessonProject/train_pytorch.ipynb#ch0000001?line=66'>67</a>\u001b[0m \u001b[39mprint\u001b[39m(model)\n",
      "\u001b[1;32md:\\OneDrive - mail2.sysu.edu.cn\\1SYSU\\Programming\\AI\\大作业\\AI_LessonProject\\train_pytorch.ipynb Cell 4'\u001b[0m in \u001b[0;36mmake_layers\u001b[1;34m(cfg, batch_norm)\u001b[0m\n\u001b[0;32m     <a href='vscode-notebook-cell:/d%3A/OneDrive%20-%20mail2.sysu.edu.cn/1SYSU/Programming/AI/%E5%A4%A7%E4%BD%9C%E4%B8%9A/AI_LessonProject/train_pytorch.ipynb#ch0000001?line=54'>55</a>\u001b[0m \u001b[39melse\u001b[39;00m:\n\u001b[0;32m     <a href='vscode-notebook-cell:/d%3A/OneDrive%20-%20mail2.sysu.edu.cn/1SYSU/Programming/AI/%E5%A4%A7%E4%BD%9C%E4%B8%9A/AI_LessonProject/train_pytorch.ipynb#ch0000001?line=55'>56</a>\u001b[0m     v \u001b[39m=\u001b[39m cast(\u001b[39mint\u001b[39m, v)\n\u001b[1;32m---> <a href='vscode-notebook-cell:/d%3A/OneDrive%20-%20mail2.sysu.edu.cn/1SYSU/Programming/AI/%E5%A4%A7%E4%BD%9C%E4%B8%9A/AI_LessonProject/train_pytorch.ipynb#ch0000001?line=56'>57</a>\u001b[0m     conv2d \u001b[39m=\u001b[39m nn\u001b[39m.\u001b[39;49mConv2d(in_channels, v, kernel_size\u001b[39m=\u001b[39;49m\u001b[39m3\u001b[39;49m, padding\u001b[39m=\u001b[39;49m\u001b[39m1\u001b[39;49m)\n\u001b[0;32m     <a href='vscode-notebook-cell:/d%3A/OneDrive%20-%20mail2.sysu.edu.cn/1SYSU/Programming/AI/%E5%A4%A7%E4%BD%9C%E4%B8%9A/AI_LessonProject/train_pytorch.ipynb#ch0000001?line=57'>58</a>\u001b[0m     \u001b[39mif\u001b[39;00m batch_norm:\n\u001b[0;32m     <a href='vscode-notebook-cell:/d%3A/OneDrive%20-%20mail2.sysu.edu.cn/1SYSU/Programming/AI/%E5%A4%A7%E4%BD%9C%E4%B8%9A/AI_LessonProject/train_pytorch.ipynb#ch0000001?line=58'>59</a>\u001b[0m         layers \u001b[39m+\u001b[39m\u001b[39m=\u001b[39m [conv2d, nn\u001b[39m.\u001b[39mBatchNorm2d(v), nn\u001b[39m.\u001b[39mReLU(inplace\u001b[39m=\u001b[39m\u001b[39mTrue\u001b[39;00m)]\n",
      "File \u001b[1;32m~\\AppData\\Local\\Packages\\PythonSoftwareFoundation.Python.3.10_qbz5n2kfra8p0\\LocalCache\\local-packages\\Python310\\site-packages\\torch\\nn\\modules\\conv.py:434\u001b[0m, in \u001b[0;36mConv2d.__init__\u001b[1;34m(self, in_channels, out_channels, kernel_size, stride, padding, dilation, groups, bias, padding_mode, device, dtype)\u001b[0m\n\u001b[0;32m    432\u001b[0m padding_ \u001b[39m=\u001b[39m padding \u001b[39mif\u001b[39;00m \u001b[39misinstance\u001b[39m(padding, \u001b[39mstr\u001b[39m) \u001b[39melse\u001b[39;00m _pair(padding)\n\u001b[0;32m    433\u001b[0m dilation_ \u001b[39m=\u001b[39m _pair(dilation)\n\u001b[1;32m--> 434\u001b[0m \u001b[39msuper\u001b[39m(Conv2d, \u001b[39mself\u001b[39m)\u001b[39m.\u001b[39m\u001b[39m__init__\u001b[39m(\n\u001b[0;32m    435\u001b[0m     in_channels, out_channels, kernel_size_, stride_, padding_, dilation_,\n\u001b[0;32m    436\u001b[0m     \u001b[39mFalse\u001b[39;00m, _pair(\u001b[39m0\u001b[39m), groups, bias, padding_mode, \u001b[39m*\u001b[39m\u001b[39m*\u001b[39mfactory_kwargs)\n",
      "File \u001b[1;32m~\\AppData\\Local\\Packages\\PythonSoftwareFoundation.Python.3.10_qbz5n2kfra8p0\\LocalCache\\local-packages\\Python310\\site-packages\\torch\\nn\\modules\\conv.py:131\u001b[0m, in \u001b[0;36m_ConvNd.__init__\u001b[1;34m(self, in_channels, out_channels, kernel_size, stride, padding, dilation, transposed, output_padding, groups, bias, padding_mode, device, dtype)\u001b[0m\n\u001b[0;32m    128\u001b[0m     \u001b[39mself\u001b[39m\u001b[39m.\u001b[39mweight \u001b[39m=\u001b[39m Parameter(torch\u001b[39m.\u001b[39mempty(\n\u001b[0;32m    129\u001b[0m         (in_channels, out_channels \u001b[39m/\u001b[39m\u001b[39m/\u001b[39m groups, \u001b[39m*\u001b[39mkernel_size), \u001b[39m*\u001b[39m\u001b[39m*\u001b[39mfactory_kwargs))\n\u001b[0;32m    130\u001b[0m \u001b[39melse\u001b[39;00m:\n\u001b[1;32m--> 131\u001b[0m     \u001b[39mself\u001b[39m\u001b[39m.\u001b[39mweight \u001b[39m=\u001b[39m Parameter(torch\u001b[39m.\u001b[39mempty(\n\u001b[0;32m    132\u001b[0m         (out_channels, in_channels \u001b[39m/\u001b[39m\u001b[39m/\u001b[39m groups, \u001b[39m*\u001b[39mkernel_size), \u001b[39m*\u001b[39m\u001b[39m*\u001b[39mfactory_kwargs))\n\u001b[0;32m    133\u001b[0m \u001b[39mif\u001b[39;00m bias:\n\u001b[0;32m    134\u001b[0m     \u001b[39mself\u001b[39m\u001b[39m.\u001b[39mbias \u001b[39m=\u001b[39m Parameter(torch\u001b[39m.\u001b[39mempty(out_channels, \u001b[39m*\u001b[39m\u001b[39m*\u001b[39mfactory_kwargs))\n",
      "File \u001b[1;32m~\\AppData\\Local\\Packages\\PythonSoftwareFoundation.Python.3.10_qbz5n2kfra8p0\\LocalCache\\local-packages\\Python310\\site-packages\\torch\\nn\\modules\\module.py:1203\u001b[0m, in \u001b[0;36mModule.__setattr__\u001b[1;34m(self, name, value)\u001b[0m\n\u001b[0;32m   1200\u001b[0m         \u001b[39mraise\u001b[39;00m \u001b[39mAttributeError\u001b[39;00m(\n\u001b[0;32m   1201\u001b[0m             \u001b[39m\"\u001b[39m\u001b[39mcannot assign parameters before Module.__init__() call\u001b[39m\u001b[39m\"\u001b[39m)\n\u001b[0;32m   1202\u001b[0m     remove_from(\u001b[39mself\u001b[39m\u001b[39m.\u001b[39m\u001b[39m__dict__\u001b[39m, \u001b[39mself\u001b[39m\u001b[39m.\u001b[39m_buffers, \u001b[39mself\u001b[39m\u001b[39m.\u001b[39m_modules, \u001b[39mself\u001b[39m\u001b[39m.\u001b[39m_non_persistent_buffers_set)\n\u001b[1;32m-> 1203\u001b[0m     \u001b[39mself\u001b[39;49m\u001b[39m.\u001b[39;49mregister_parameter(name, value)\n\u001b[0;32m   1204\u001b[0m \u001b[39melif\u001b[39;00m params \u001b[39mis\u001b[39;00m \u001b[39mnot\u001b[39;00m \u001b[39mNone\u001b[39;00m \u001b[39mand\u001b[39;00m name \u001b[39min\u001b[39;00m params:\n\u001b[0;32m   1205\u001b[0m     \u001b[39mif\u001b[39;00m value \u001b[39mis\u001b[39;00m \u001b[39mnot\u001b[39;00m \u001b[39mNone\u001b[39;00m:\n",
      "File \u001b[1;32m~\\AppData\\Local\\Packages\\PythonSoftwareFoundation.Python.3.10_qbz5n2kfra8p0\\LocalCache\\local-packages\\Python310\\site-packages\\torch\\nn\\modules\\module.py:345\u001b[0m, in \u001b[0;36mModule.register_parameter\u001b[1;34m(self, name, param)\u001b[0m\n\u001b[0;32m    341\u001b[0m \u001b[39mif\u001b[39;00m \u001b[39m'\u001b[39m\u001b[39m_parameters\u001b[39m\u001b[39m'\u001b[39m \u001b[39mnot\u001b[39;00m \u001b[39min\u001b[39;00m \u001b[39mself\u001b[39m\u001b[39m.\u001b[39m\u001b[39m__dict__\u001b[39m:\n\u001b[0;32m    342\u001b[0m     \u001b[39mraise\u001b[39;00m \u001b[39mAttributeError\u001b[39;00m(\n\u001b[0;32m    343\u001b[0m         \u001b[39m\"\u001b[39m\u001b[39mcannot assign parameter before Module.__init__() call\u001b[39m\u001b[39m\"\u001b[39m)\n\u001b[1;32m--> 345\u001b[0m \u001b[39melif\u001b[39;00m \u001b[39mnot\u001b[39;00m \u001b[39misinstance\u001b[39m(name, torch\u001b[39m.\u001b[39;49m_six\u001b[39m.\u001b[39mstring_classes):\n\u001b[0;32m    346\u001b[0m     \u001b[39mraise\u001b[39;00m \u001b[39mTypeError\u001b[39;00m(\u001b[39m\"\u001b[39m\u001b[39mparameter name should be a string. \u001b[39m\u001b[39m\"\u001b[39m\n\u001b[0;32m    347\u001b[0m                     \u001b[39m\"\u001b[39m\u001b[39mGot \u001b[39m\u001b[39m{}\u001b[39;00m\u001b[39m\"\u001b[39m\u001b[39m.\u001b[39mformat(torch\u001b[39m.\u001b[39mtypename(name)))\n\u001b[0;32m    348\u001b[0m \u001b[39melif\u001b[39;00m \u001b[39m'\u001b[39m\u001b[39m.\u001b[39m\u001b[39m'\u001b[39m \u001b[39min\u001b[39;00m name:\n",
      "\u001b[1;31mAttributeError\u001b[0m: module 'torch' has no attribute '_six'"
     ]
    }
   ],
   "source": [
    "import torch\n",
    "import matplotlib.pyplot as  plt\n",
    "import torch.nn  as  nn\n",
    "import torch.utils.data as Data \n",
    "import torch.nn.functional as F\n",
    "\n",
    "from functools import partial\n",
    "from typing import Union, List, Dict, Any, Optional, cast\n",
    "\n",
    "device=torch.device('cuda:0')\n",
    "\n",
    "\n",
    "class VGGNet(nn.Module):\n",
    "    def __init__(self):\n",
    "        super(VGGNet, self).__init__()\n",
    "        self.conv1 = nn.Conv2d(1, 48, kernel_size=3, padding=2)\n",
    "        self.pool1 = nn.MaxPool2d(2,2)\n",
    "        self.conv2 = nn.Conv2d(6, 16, 5, padding=0)\n",
    "        self.pool2 = nn.MaxPool2d(2,2)\n",
    "        self.fc1 = nn.Linear(16 * 5 * 5, 120)\n",
    "        self.fc2 = nn.Linear(120, 84)\n",
    "        self.fc3 = nn.Linear(84, 10)\n",
    "\n",
    "    # 定义前向传播过程，输入为x\n",
    "    def forward(self, x):\n",
    "        x = self.pool1(F.relu(self.conv1(x)))\n",
    "        x = self.pool2(F.relu(self.conv2(x)))\n",
    "        x = torch.flatten(x, 1)\n",
    "        x = F.relu(self.fc1(x))\n",
    "        x = F.relu(self.fc2(x))\n",
    "        x = self.fc3(x)\n",
    "        return x\n",
    "\n",
    "net = VGGNet().to(device)\n",
    "print(net)"
   ]
  }
 ],
 "metadata": {
  "kernelspec": {
   "display_name": "Python 3.10.5 64-bit (windows store)",
   "language": "python",
   "name": "python3"
  },
  "language_info": {
   "codemirror_mode": {
    "name": "ipython",
    "version": 3
   },
   "file_extension": ".py",
   "mimetype": "text/x-python",
   "name": "python",
   "nbconvert_exporter": "python",
   "pygments_lexer": "ipython3",
   "version": "3.10.5"
  },
  "orig_nbformat": 4,
  "vscode": {
   "interpreter": {
    "hash": "b7484d2d05136da1b864a797d299b7c4b86bf21fd2bd86a404ee2e7691594036"
   }
  }
 },
 "nbformat": 4,
 "nbformat_minor": 2
}
